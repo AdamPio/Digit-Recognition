{
 "cells": [
  {
   "cell_type": "code",
   "execution_count": 1,
   "id": "65f37131",
   "metadata": {},
   "outputs": [],
   "source": [
    "from tensorflow.keras.datasets import mnist\n",
    "(train_X, train_y), (test_X, test_y) = mnist.load_data()"
   ]
  },
  {
   "cell_type": "code",
   "execution_count": 2,
   "id": "879cf017",
   "metadata": {},
   "outputs": [
    {
     "name": "stdout",
     "output_type": "stream",
     "text": [
      "(60000, 28, 28)\n",
      "(60000,)\n",
      "(10000, 28, 28)\n",
      "(10000,)\n"
     ]
    }
   ],
   "source": [
    "print(train_X.shape)\n",
    "print(train_y.shape)\n",
    "print(test_X.shape)\n",
    "print(test_y.shape)"
   ]
  },
  {
   "cell_type": "code",
   "execution_count": 3,
   "id": "e32b4896",
   "metadata": {},
   "outputs": [],
   "source": [
    "import numpy as np\n",
    "import cv2 as cv\n",
    "import torch\n",
    "import pandas as pd\n",
    "\n",
    "%matplotlib inline\n",
    "import matplotlib as mlp\n",
    "import matplotlib.pyplot as plt\n",
    "from tensorflow import keras\n",
    "\n",
    "np.random.seed(42)"
   ]
  },
  {
   "cell_type": "code",
   "execution_count": 4,
   "id": "81f82180",
   "metadata": {},
   "outputs": [
    {
     "data": {
      "image/png": "[encoded data removed]",
      "text/plain": [
       "<Figure size 432x288 with 1 Axes>"
      ]
     },
     "metadata": {
      "needs_background": "light"
     },
     "output_type": "display_data"
    },
    {
     "name": "stdout",
     "output_type": "stream",
     "text": [
      "To jest liczba: 7\n"
     ]
    }
   ],
   "source": [
    "number = 15\n",
    "some_digit = train_X[number]\n",
    "plt.imshow(some_digit, cmap='binary')\n",
    "plt.axis('off')\n",
    "plt.show()\n",
    "print(\"To jest liczba:\", train_y[number])"
   ]
  },
  {
   "cell_type": "code",
   "execution_count": 5,
   "id": "ec7b2001",
   "metadata": {},
   "outputs": [],
   "source": [
    "model = keras.models.Sequential([\n",
    "    keras.layers.Flatten(input_shape=[28, 28]),\n",
    "    keras.layers.Dense(300, activation='sigmoid'),\n",
    "    keras.layers.Dense(100, activation='sigmoid'),\n",
    "    keras.layers.Dense(10, activation='softmax')\n",
    "])"
   ]
  },
  {
   "cell_type": "code",
   "execution_count": 6,
   "id": "e9e824ce",
   "metadata": {},
   "outputs": [],
   "source": [
    "model.compile(loss='sparse_categorical_crossentropy',\n",
    "             optimizer='adam',\n",
    "             metrics=['accuracy'])"
   ]
  },
  {
   "cell_type": "code",
   "execution_count": 7,
   "id": "b557fa6d",
   "metadata": {},
   "outputs": [
    {
     "name": "stdout",
     "output_type": "stream",
     "text": [
      "Epoch 1/30\n",
      "1875/1875 [==============================] - 2s 1ms/step - loss: 0.4674 - accuracy: 0.8744\n",
      "Epoch 2/30\n",
      "1875/1875 [==============================] - 2s 999us/step - loss: 0.3055 - accuracy: 0.9076\n",
      "Epoch 3/30\n",
      "1875/1875 [==============================] - 2s 990us/step - loss: 0.2686 - accuracy: 0.91720s - loss: 0.2\n",
      "Epoch 4/30\n",
      "1875/1875 [==============================] - 2s 1ms/step - loss: 0.2459 - accuracy: 0.9239\n",
      "Epoch 5/30\n",
      "1875/1875 [==============================] - 2s 991us/step - loss: 0.2321 - accuracy: 0.9283\n",
      "Epoch 6/30\n",
      "1875/1875 [==============================] - 2s 1ms/step - loss: 0.2104 - accuracy: 0.9357\n",
      "Epoch 7/30\n",
      "1875/1875 [==============================] - 2s 992us/step - loss: 0.2008 - accuracy: 0.9380\n",
      "Epoch 8/30\n",
      "1875/1875 [==============================] - 2s 1ms/step - loss: 0.1930 - accuracy: 0.9401\n",
      "Epoch 9/30\n",
      "1875/1875 [==============================] - 2s 998us/step - loss: 0.1880 - accuracy: 0.9414\n",
      "Epoch 10/30\n",
      "1875/1875 [==============================] - 2s 1ms/step - loss: 0.1818 - accuracy: 0.9431\n",
      "Epoch 11/30\n",
      "1875/1875 [==============================] - 2s 996us/step - loss: 0.1643 - accuracy: 0.9482\n",
      "Epoch 12/30\n",
      "1875/1875 [==============================] - 2s 988us/step - loss: 0.1570 - accuracy: 0.9509\n",
      "Epoch 13/30\n",
      "1875/1875 [==============================] - 2s 1ms/step - loss: 0.1593 - accuracy: 0.9493\n",
      "Epoch 14/30\n",
      "1875/1875 [==============================] - 2s 995us/step - loss: 0.1517 - accuracy: 0.9514\n",
      "Epoch 15/30\n",
      "1875/1875 [==============================] - 2s 1ms/step - loss: 0.1485 - accuracy: 0.9528\n",
      "Epoch 16/30\n",
      "1875/1875 [==============================] - 2s 978us/step - loss: 0.1493 - accuracy: 0.9532\n",
      "Epoch 17/30\n",
      "1875/1875 [==============================] - 2s 983us/step - loss: 0.1402 - accuracy: 0.9559\n",
      "Epoch 18/30\n",
      "1875/1875 [==============================] - 2s 991us/step - loss: 0.1363 - accuracy: 0.9574\n",
      "Epoch 19/30\n",
      "1875/1875 [==============================] - 2s 986us/step - loss: 0.1328 - accuracy: 0.9580\n",
      "Epoch 20/30\n",
      "1875/1875 [==============================] - 2s 996us/step - loss: 0.1289 - accuracy: 0.9592\n",
      "Epoch 21/30\n",
      "1875/1875 [==============================] - 2s 979us/step - loss: 0.1263 - accuracy: 0.9601\n",
      "Epoch 22/30\n",
      "1875/1875 [==============================] - 2s 996us/step - loss: 0.1278 - accuracy: 0.9601\n",
      "Epoch 23/30\n",
      "1875/1875 [==============================] - 2s 1ms/step - loss: 0.1204 - accuracy: 0.9619\n",
      "Epoch 24/30\n",
      "1875/1875 [==============================] - 2s 996us/step - loss: 0.1140 - accuracy: 0.9643\n",
      "Epoch 25/30\n",
      "1875/1875 [==============================] - 2s 1ms/step - loss: 0.1199 - accuracy: 0.9615\n",
      "Epoch 26/30\n",
      "1875/1875 [==============================] - 2s 994us/step - loss: 0.1152 - accuracy: 0.9632\n",
      "Epoch 27/30\n",
      "1875/1875 [==============================] - 2s 1ms/step - loss: 0.1138 - accuracy: 0.9643\n",
      "Epoch 28/30\n",
      "1875/1875 [==============================] - 2s 990us/step - loss: 0.1151 - accuracy: 0.9636\n",
      "Epoch 29/30\n",
      "1875/1875 [==============================] - 2s 991us/step - loss: 0.1136 - accuracy: 0.9632\n",
      "Epoch 30/30\n",
      "1875/1875 [==============================] - 2s 993us/step - loss: 0.1112 - accuracy: 0.9644\n"
     ]
    }
   ],
   "source": [
    "hist = model.fit(train_X, train_y, epochs=30)"
   ]
  },
  {
   "cell_type": "code",
   "execution_count": 8,
   "id": "58c94e96",
   "metadata": {},
   "outputs": [
    {
     "data": {
      "image/png": "[encoded data removed]",
      "text/plain": [
       "<Figure size 576x216 with 1 Axes>"
      ]
     },
     "metadata": {
      "needs_background": "light"
     },
     "output_type": "display_data"
    }
   ],
   "source": [
    "pd.DataFrame(hist.history).plot(figsize=(8, 3))\n",
    "plt.grid(True)\n",
    "plt.gca().set_ylim(0, 1)\n",
    "plt.show()"
   ]
  },
  {
   "cell_type": "code",
   "execution_count": 9,
   "id": "ffa1e920",
   "metadata": {},
   "outputs": [
    {
     "name": "stdout",
     "output_type": "stream",
     "text": [
      "313/313 [==============================] - 0s 585us/step - loss: 0.1349 - accuracy: 0.9572\n"
     ]
    },
    {
     "data": {
      "text/plain": [
       "[0.13487210869789124, 0.9571999907493591]"
      ]
     },
     "execution_count": 9,
     "metadata": {},
     "output_type": "execute_result"
    }
   ],
   "source": [
    "model.evaluate(test_X, test_y)"
   ]
  },
  {
   "cell_type": "code",
   "execution_count": 10,
   "id": "56ab0d02",
   "metadata": {},
   "outputs": [
    {
     "name": "stdout",
     "output_type": "stream",
     "text": [
      "WARNING:tensorflow:From E:\\Anaconda\\envs\\PSI\\lib\\site-packages\\tensorflow\\python\\training\\tracking\\tracking.py:111: Model.state_updates (from tensorflow.python.keras.engine.training) is deprecated and will be removed in a future version.\n",
      "Instructions for updating:\n",
      "This property should not be used in TensorFlow 2.0, as updates are applied automatically.\n",
      "WARNING:tensorflow:From E:\\Anaconda\\envs\\PSI\\lib\\site-packages\\tensorflow\\python\\training\\tracking\\tracking.py:111: Layer.updates (from tensorflow.python.keras.engine.base_layer) is deprecated and will be removed in a future version.\n",
      "Instructions for updating:\n",
      "This property should not be used in TensorFlow 2.0, as updates are applied automatically.\n",
      "INFO:tensorflow:Assets written to: model\\assets\n"
     ]
    }
   ],
   "source": [
    "model.save('model')"
   ]
  },
  {
   "cell_type": "code",
   "execution_count": 11,
   "id": "a4984054",
   "metadata": {},
   "outputs": [
    {
     "data": {
      "text/plain": [
       "array([5, 0, 4, 1, 9, 2, 1, 3, 1, 4, 3, 5, 3, 6, 1, 7], dtype=uint8)"
      ]
     },
     "execution_count": 11,
     "metadata": {},
     "output_type": "execute_result"
    }
   ],
   "source": [
    "test = model.predict(train_X[:16])\n",
    "train_y[:16]"
   ]
  },
  {
   "cell_type": "code",
   "execution_count": 12,
   "id": "d8266fb0",
   "metadata": {},
   "outputs": [
    {
     "data": {
      "text/plain": [
       "array([[0.  , 0.  , 0.  , 0.02, 0.  , 0.98, 0.  , 0.  , 0.  , 0.  ],\n",
       "       [1.  , 0.  , 0.  , 0.  , 0.  , 0.  , 0.  , 0.  , 0.  , 0.  ],\n",
       "       [0.  , 0.  , 0.  , 0.  , 1.  , 0.  , 0.  , 0.  , 0.  , 0.  ],\n",
       "       [0.  , 0.96, 0.  , 0.  , 0.  , 0.  , 0.  , 0.02, 0.01, 0.01],\n",
       "       [0.  , 0.  , 0.  , 0.  , 0.06, 0.01, 0.  , 0.01, 0.  , 0.91],\n",
       "       [0.  , 0.  , 1.  , 0.  , 0.  , 0.  , 0.  , 0.  , 0.  , 0.  ],\n",
       "       [0.  , 1.  , 0.  , 0.  , 0.  , 0.  , 0.  , 0.  , 0.  , 0.  ],\n",
       "       [0.  , 0.  , 0.  , 1.  , 0.  , 0.  , 0.  , 0.  , 0.  , 0.  ],\n",
       "       [0.  , 1.  , 0.  , 0.  , 0.  , 0.  , 0.  , 0.  , 0.  , 0.  ],\n",
       "       [0.  , 0.  , 0.  , 0.  , 1.  , 0.  , 0.  , 0.  , 0.  , 0.  ],\n",
       "       [0.  , 0.  , 0.  , 1.  , 0.  , 0.  , 0.  , 0.  , 0.  , 0.  ],\n",
       "       [0.  , 0.  , 0.  , 0.  , 0.  , 1.  , 0.  , 0.  , 0.  , 0.  ],\n",
       "       [0.  , 0.  , 0.  , 1.  , 0.  , 0.  , 0.  , 0.  , 0.  , 0.  ],\n",
       "       [0.  , 0.  , 0.  , 0.  , 0.  , 0.  , 1.  , 0.  , 0.  , 0.  ],\n",
       "       [0.  , 1.  , 0.  , 0.  , 0.  , 0.  , 0.  , 0.  , 0.  , 0.  ],\n",
       "       [0.  , 0.  , 0.  , 0.  , 0.  , 0.  , 0.  , 1.  , 0.  , 0.  ]],\n",
       "      dtype=float32)"
      ]
     },
     "execution_count": 12,
     "metadata": {},
     "output_type": "execute_result"
    }
   ],
   "source": [
    "test.round(2)"
   ]
  },
  {
   "cell_type": "code",
   "execution_count": 13,
   "id": "ab4f9e74",
   "metadata": {},
   "outputs": [],
   "source": [
    "test = np.argmax(test, axis=1)"
   ]
  },
  {
   "cell_type": "code",
   "execution_count": 14,
   "id": "14d84bfe",
   "metadata": {},
   "outputs": [
    {
     "data": {
      "text/plain": [
       "array([5, 0, 4, 1, 9, 2, 1, 3, 1, 4, 3, 5, 3, 6, 1, 7], dtype=int64)"
      ]
     },
     "execution_count": 14,
     "metadata": {},
     "output_type": "execute_result"
    }
   ],
   "source": [
    "test"
   ]
  },
  {
   "cell_type": "code",
   "execution_count": 15,
   "id": "70253cca",
   "metadata": {},
   "outputs": [],
   "source": [
    "image = cv.imread('test.png', cv.IMREAD_GRAYSCALE)"
   ]
  },
  {
   "cell_type": "code",
   "execution_count": 16,
   "id": "a92e3ebc",
   "metadata": {},
   "outputs": [
    {
     "data": {
      "image/png": "[encoded data removed]",
      "text/plain": [
       "<Figure size 432x288 with 1 Axes>"
      ]
     },
     "metadata": {
      "needs_background": "light"
     },
     "output_type": "display_data"
    }
   ],
   "source": [
    "plt.imshow(image, cmap='binary')\n",
    "plt.show()"
   ]
  },
  {
   "cell_type": "code",
   "execution_count": 17,
   "id": "e81d1920",
   "metadata": {},
   "outputs": [],
   "source": [
    "image = cv.resize(image, (28, 28))"
   ]
  },
  {
   "cell_type": "code",
   "execution_count": 18,
   "id": "4ea8173e",
   "metadata": {},
   "outputs": [
    {
     "data": {
      "image/png": "[encoded data removed]",
      "text/plain": [
       "<Figure size 432x288 with 1 Axes>"
      ]
     },
     "metadata": {
      "needs_background": "light"
     },
     "output_type": "display_data"
    }
   ],
   "source": [
    "plt.imshow(image, cmap='binary')\n",
    "plt.show()"
   ]
  },
  {
   "cell_type": "code",
   "execution_count": 19,
   "id": "7cd915b8",
   "metadata": {},
   "outputs": [
    {
     "data": {
      "text/plain": [
       "array([2], dtype=int64)"
      ]
     },
     "execution_count": 19,
     "metadata": {},
     "output_type": "execute_result"
    }
   ],
   "source": [
    "image = np.expand_dims(image, axis=0)\n",
    "ex = model.predict(image)\n",
    "ex = np.argmax(ex, axis=1)\n",
    "ex"
   ]
  },
  {
   "cell_type": "code",
   "execution_count": null,
   "id": "c2c5fed0",
   "metadata": {},
   "outputs": [],
   "source": []
  }
 ],
 "metadata": {
  "kernelspec": {
   "display_name": "Python 3 (ipykernel)",
   "language": "python",
   "name": "python3"
  },
  "language_info": {
   "codemirror_mode": {
    "name": "ipython",
    "version": 3
   },
   "file_extension": ".py",
   "mimetype": "text/x-python",
   "name": "python",
   "nbconvert_exporter": "python",
   "pygments_lexer": "ipython3",
   "version": "3.8.12"
  }
 },
 "nbformat": 4,
 "nbformat_minor": 5
}
