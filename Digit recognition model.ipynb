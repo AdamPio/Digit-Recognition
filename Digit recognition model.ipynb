{
 "cells": [
  {
   "cell_type": "code",
   "execution_count": 60,
   "id": "65f37131",
   "metadata": {},
   "outputs": [],
   "source": [
    "from tensorflow.keras.datasets import mnist\n",
    "from tensorflow.keras.utils import normalize\n",
    "(train_X, train_y), (test_X, test_y) = mnist.load_data()\n",
    "train_X = normalize(train_X, axis=1)\n",
    "test_X = normalize(test_X, axis=1)"
   ]
  },
  {
   "cell_type": "code",
   "execution_count": 45,
   "id": "879cf017",
   "metadata": {},
   "outputs": [
    {
     "name": "stdout",
     "output_type": "stream",
     "text": [
      "(60000, 28, 28)\n",
      "(60000,)\n",
      "(10000, 28, 28)\n",
      "(10000,)\n"
     ]
    }
   ],
   "source": [
    "print(train_X.shape)\n",
    "print(train_y.shape)\n",
    "print(test_X.shape)\n",
    "print(test_y.shape)\n",
    "\n",
    "# train_X = train_X / 255.0\n",
    "# train_y = train_y / 255.0\n",
    "# test_X = test_X / 255.0\n",
    "# test_y = test_y / 255.0"
   ]
  },
  {
   "cell_type": "code",
   "execution_count": 46,
   "id": "e32b4896",
   "metadata": {},
   "outputs": [],
   "source": [
    "import numpy as np\n",
    "import cv2 as cv\n",
    "import torch\n",
    "import pandas as pd\n",
    "\n",
    "%matplotlib inline\n",
    "import matplotlib as mlp\n",
    "import matplotlib.pyplot as plt\n",
    "from tensorflow import keras\n",
    "\n",
    "np.random.seed(42)"
   ]
  },
  {
   "cell_type": "code",
   "execution_count": 47,
   "id": "81f82180",
   "metadata": {},
   "outputs": [
    {
     "data": {
      "image/png": "[encoded data removed]",
      "text/plain": [
       "<Figure size 432x288 with 1 Axes>"
      ]
     },
     "metadata": {
      "needs_background": "light"
     },
     "output_type": "display_data"
    },
    {
     "name": "stdout",
     "output_type": "stream",
     "text": [
      "To jest liczba: 7\n"
     ]
    }
   ],
   "source": [
    "number = 15\n",
    "some_digit = train_X[number]\n",
    "plt.imshow(some_digit, cmap='binary')\n",
    "plt.axis('off')\n",
    "plt.show()\n",
    "print(\"To jest liczba:\", train_y[number])"
   ]
  },
  {
   "cell_type": "code",
   "execution_count": 61,
   "id": "ec7b2001",
   "metadata": {},
   "outputs": [],
   "source": [
    "model = keras.models.Sequential([\n",
    "    keras.layers.Flatten(input_shape=[28, 28]),\n",
    "    keras.layers.Dense(128, activation='relu'),\n",
    "    keras.layers.Dense(128, activation='relu'),\n",
    "    keras.layers.Dense(10, activation='softmax')\n",
    "])"
   ]
  },
  {
   "cell_type": "code",
   "execution_count": 62,
   "id": "e9e824ce",
   "metadata": {},
   "outputs": [],
   "source": [
    "model.compile(loss='sparse_categorical_crossentropy',\n",
    "             optimizer='adam',\n",
    "             metrics=['accuracy'])"
   ]
  },
  {
   "cell_type": "code",
   "execution_count": 63,
   "id": "b557fa6d",
   "metadata": {},
   "outputs": [
    {
     "name": "stdout",
     "output_type": "stream",
     "text": [
      "Epoch 1/30\n",
      "1875/1875 [==============================] - 1s 724us/step - loss: 0.2640 - accuracy: 0.9218\n",
      "Epoch 2/30\n",
      "1875/1875 [==============================] - 1s 695us/step - loss: 0.1086 - accuracy: 0.9659\n",
      "Epoch 3/30\n",
      "1875/1875 [==============================] - 1s 724us/step - loss: 0.0740 - accuracy: 0.9769\n",
      "Epoch 4/30\n",
      "1875/1875 [==============================] - 1s 710us/step - loss: 0.0529 - accuracy: 0.9832\n",
      "Epoch 5/30\n",
      "1875/1875 [==============================] - 1s 752us/step - loss: 0.0413 - accuracy: 0.9866\n",
      "Epoch 6/30\n",
      "1875/1875 [==============================] - 1s 781us/step - loss: 0.0311 - accuracy: 0.9898\n",
      "Epoch 7/30\n",
      "1875/1875 [==============================] - 1s 763us/step - loss: 0.0253 - accuracy: 0.9915\n",
      "Epoch 8/30\n",
      "1875/1875 [==============================] - 1s 741us/step - loss: 0.0201 - accuracy: 0.9928\n",
      "Epoch 9/30\n",
      "1875/1875 [==============================] - 1s 772us/step - loss: 0.0183 - accuracy: 0.9938\n",
      "Epoch 10/30\n",
      "1875/1875 [==============================] - 1s 759us/step - loss: 0.0150 - accuracy: 0.9948\n",
      "Epoch 11/30\n",
      "1875/1875 [==============================] - 1s 763us/step - loss: 0.0121 - accuracy: 0.9961\n",
      "Epoch 12/30\n",
      "1875/1875 [==============================] - 1s 770us/step - loss: 0.0130 - accuracy: 0.9955\n",
      "Epoch 13/30\n",
      "1875/1875 [==============================] - 1s 753us/step - loss: 0.0110 - accuracy: 0.9962\n",
      "Epoch 14/30\n",
      "1875/1875 [==============================] - 1s 747us/step - loss: 0.0105 - accuracy: 0.9963\n",
      "Epoch 15/30\n",
      "1875/1875 [==============================] - 1s 768us/step - loss: 0.0105 - accuracy: 0.9969\n",
      "Epoch 16/30\n",
      "1875/1875 [==============================] - 1s 724us/step - loss: 0.0092 - accuracy: 0.9966\n",
      "Epoch 17/30\n",
      "1875/1875 [==============================] - 1s 686us/step - loss: 0.0089 - accuracy: 0.9972\n",
      "Epoch 18/30\n",
      "1875/1875 [==============================] - 1s 735us/step - loss: 0.0079 - accuracy: 0.9973\n",
      "Epoch 19/30\n",
      "1875/1875 [==============================] - 1s 708us/step - loss: 0.0080 - accuracy: 0.9973\n",
      "Epoch 20/30\n",
      "1875/1875 [==============================] - 1s 710us/step - loss: 0.0079 - accuracy: 0.9975\n",
      "Epoch 21/30\n",
      "1875/1875 [==============================] - 1s 717us/step - loss: 0.0060 - accuracy: 0.9978\n",
      "Epoch 22/30\n",
      "1875/1875 [==============================] - 1s 711us/step - loss: 0.0068 - accuracy: 0.9976\n",
      "Epoch 23/30\n",
      "1875/1875 [==============================] - 1s 718us/step - loss: 0.0083 - accuracy: 0.9975\n",
      "Epoch 24/30\n",
      "1875/1875 [==============================] - 1s 722us/step - loss: 0.0050 - accuracy: 0.9985\n",
      "Epoch 25/30\n",
      "1875/1875 [==============================] - 1s 729us/step - loss: 0.0081 - accuracy: 0.9973\n",
      "Epoch 26/30\n",
      "1875/1875 [==============================] - 1s 724us/step - loss: 0.0067 - accuracy: 0.9977\n",
      "Epoch 27/30\n",
      "1875/1875 [==============================] - 1s 728us/step - loss: 0.0051 - accuracy: 0.9982\n",
      "Epoch 28/30\n",
      "1875/1875 [==============================] - 1s 741us/step - loss: 0.0057 - accuracy: 0.9981\n",
      "Epoch 29/30\n",
      "1875/1875 [==============================] - 1s 726us/step - loss: 0.0081 - accuracy: 0.9974\n",
      "Epoch 30/30\n",
      "1875/1875 [==============================] - 1s 736us/step - loss: 0.0057 - accuracy: 0.9983\n"
     ]
    }
   ],
   "source": [
    "hist = model.fit(train_X, train_y, epochs=30)"
   ]
  },
  {
   "cell_type": "code",
   "execution_count": 64,
   "id": "58c94e96",
   "metadata": {},
   "outputs": [
    {
     "data": {
      "image/png": "[encoded data removed]",
      "text/plain": [
       "<Figure size 576x216 with 1 Axes>"
      ]
     },
     "metadata": {
      "needs_background": "light"
     },
     "output_type": "display_data"
    }
   ],
   "source": [
    "pd.DataFrame(hist.history).plot(figsize=(8, 3))\n",
    "plt.grid(True)\n",
    "plt.gca().set_ylim(0, 1)\n",
    "plt.show()"
   ]
  },
  {
   "cell_type": "code",
   "execution_count": 65,
   "id": "ffa1e920",
   "metadata": {},
   "outputs": [
    {
     "name": "stdout",
     "output_type": "stream",
     "text": [
      "313/313 [==============================] - 0s 467us/step - loss: 0.1717 - accuracy: 0.9766\n"
     ]
    },
    {
     "data": {
      "text/plain": [
       "[0.17174525558948517, 0.9765999913215637]"
      ]
     },
     "execution_count": 65,
     "metadata": {},
     "output_type": "execute_result"
    }
   ],
   "source": [
    "model.evaluate(test_X, test_y)"
   ]
  },
  {
   "cell_type": "code",
   "execution_count": 67,
   "id": "56ab0d02",
   "metadata": {},
   "outputs": [
    {
     "name": "stdout",
     "output_type": "stream",
     "text": [
      "INFO:tensorflow:Assets written to: model\\assets\n"
     ]
    }
   ],
   "source": [
    "model.save('model')"
   ]
  },
  {
   "cell_type": "code",
   "execution_count": null,
   "id": "a4984054",
   "metadata": {},
   "outputs": [],
   "source": [
    "test = model.predict(train_X[:16])\n",
    "train_y[:16]"
   ]
  },
  {
   "cell_type": "code",
   "execution_count": null,
   "id": "d8266fb0",
   "metadata": {},
   "outputs": [],
   "source": [
    "test.round(2)"
   ]
  },
  {
   "cell_type": "code",
   "execution_count": null,
   "id": "ab4f9e74",
   "metadata": {},
   "outputs": [],
   "source": [
    "test = np.argmax(test, axis=1)"
   ]
  },
  {
   "cell_type": "code",
   "execution_count": null,
   "id": "14d84bfe",
   "metadata": {},
   "outputs": [],
   "source": [
    "test"
   ]
  },
  {
   "cell_type": "code",
   "execution_count": null,
   "id": "70253cca",
   "metadata": {},
   "outputs": [],
   "source": [
    "image = cv.imread('number.png', cv.IMREAD_GRAYSCALE)\n",
    "image = image[0:784, 0:784]"
   ]
  },
  {
   "cell_type": "code",
   "execution_count": null,
   "id": "a92e3ebc",
   "metadata": {},
   "outputs": [],
   "source": [
    "plt.imshow(image, cmap='binary')\n",
    "plt.show()"
   ]
  },
  {
   "cell_type": "code",
   "execution_count": null,
   "id": "e81d1920",
   "metadata": {},
   "outputs": [],
   "source": [
    "image = cv.resize(image, (28, 28))"
   ]
  },
  {
   "cell_type": "code",
   "execution_count": null,
   "id": "4ea8173e",
   "metadata": {},
   "outputs": [],
   "source": [
    "plt.imshow(image, cmap='binary')\n",
    "plt.show()"
   ]
  },
  {
   "cell_type": "code",
   "execution_count": null,
   "id": "7cd915b8",
   "metadata": {},
   "outputs": [],
   "source": [
    "image = np.expand_dims(image, axis=0)\n",
    "ex = model.predict(image)\n",
    "ex = np.argmax(ex, axis=1)\n",
    "ex"
   ]
  },
  {
   "cell_type": "code",
   "execution_count": null,
   "id": "c2c5fed0",
   "metadata": {},
   "outputs": [],
   "source": []
  }
 ],
 "metadata": {
  "kernelspec": {
   "display_name": "Python 3 (ipykernel)",
   "language": "python",
   "name": "python3"
  },
  "language_info": {
   "codemirror_mode": {
    "name": "ipython",
    "version": 3
   },
   "file_extension": ".py",
   "mimetype": "text/x-python",
   "name": "python",
   "nbconvert_exporter": "python",
   "pygments_lexer": "ipython3",
   "version": "3.8.12"
  }
 },
 "nbformat": 4,
 "nbformat_minor": 5
}
