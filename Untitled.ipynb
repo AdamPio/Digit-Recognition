{
 "cells": [
  {
   "cell_type": "code",
   "execution_count": 1,
   "id": "65f37131",
   "metadata": {},
   "outputs": [],
   "source": [
    "from tensorflow.keras.datasets import mnist\n",
    "(train_X, train_y), (test_X, test_y) = mnist.load_data()"
   ]
  },
  {
   "cell_type": "code",
   "execution_count": 2,
   "id": "879cf017",
   "metadata": {},
   "outputs": [
    {
     "name": "stdout",
     "output_type": "stream",
     "text": [
      "(60000, 28, 28)\n",
      "(60000,)\n",
      "(10000, 28, 28)\n",
      "(10000,)\n"
     ]
    }
   ],
   "source": [
    "print(train_X.shape)\n",
    "print(train_y.shape)\n",
    "print(test_X.shape)\n",
    "print(test_y.shape)"
   ]
  },
  {
   "cell_type": "code",
   "execution_count": 3,
   "id": "e32b4896",
   "metadata": {},
   "outputs": [],
   "source": [
    "import numpy as np\n",
    "import cv2 as cv\n",
    "import torch\n",
    "import pandas as pd\n",
    "\n",
    "%matplotlib inline\n",
    "import matplotlib as mlp\n",
    "import matplotlib.pyplot as plt\n",
    "from tensorflow import keras\n",
    "\n",
    "np.random.seed(42)"
   ]
  },
  {
   "cell_type": "code",
   "execution_count": 4,
   "id": "81f82180",
   "metadata": {},
   "outputs": [
    {
     "data": {
      "image/png": "[encoded data removed]",
      "text/plain": [
       "<Figure size 432x288 with 1 Axes>"
      ]
     },
     "metadata": {
      "needs_background": "light"
     },
     "output_type": "display_data"
    },
    {
     "name": "stdout",
     "output_type": "stream",
     "text": [
      "To jest liczba: 7\n"
     ]
    }
   ],
   "source": [
    "number = 15\n",
    "some_digit = train_X[number]\n",
    "plt.imshow(some_digit, cmap='binary')\n",
    "plt.axis('off')\n",
    "plt.show()\n",
    "print(\"To jest liczba:\", train_y[number])"
   ]
  },
  {
   "cell_type": "code",
   "execution_count": 24,
   "id": "ec7b2001",
   "metadata": {},
   "outputs": [],
   "source": [
    "model = keras.models.Sequential([\n",
    "    keras.layers.Flatten(input_shape=[28, 28]),\n",
    "    keras.layers.Dense(300, activation='sigmoid'),\n",
    "    keras.layers.Dense(100, activation='sigmoid'),\n",
    "    keras.layers.Dense(10, activation='softmax')\n",
    "])"
   ]
  },
  {
   "cell_type": "code",
   "execution_count": 25,
   "id": "e9e824ce",
   "metadata": {},
   "outputs": [],
   "source": [
    "model.compile(loss='sparse_categorical_crossentropy',\n",
    "             optimizer='adam',\n",
    "             metrics=['accuracy'])"
   ]
  },
  {
   "cell_type": "code",
   "execution_count": 26,
   "id": "b557fa6d",
   "metadata": {},
   "outputs": [
    {
     "name": "stdout",
     "output_type": "stream",
     "text": [
      "Epoch 1/30\n",
      "1875/1875 [==============================] - 2s 1ms/step - loss: 0.4565 - accuracy: 0.8778\n",
      "Epoch 2/30\n",
      "1875/1875 [==============================] - 2s 990us/step - loss: 0.2999 - accuracy: 0.9100\n",
      "Epoch 3/30\n",
      "1875/1875 [==============================] - 2s 982us/step - loss: 0.2710 - accuracy: 0.9175\n",
      "Epoch 4/30\n",
      "1875/1875 [==============================] - 2s 986us/step - loss: 0.2495 - accuracy: 0.9228\n",
      "Epoch 5/30\n",
      "1875/1875 [==============================] - 2s 982us/step - loss: 0.2300 - accuracy: 0.9289\n",
      "Epoch 6/30\n",
      "1875/1875 [==============================] - 2s 994us/step - loss: 0.2122 - accuracy: 0.9346\n",
      "Epoch 7/30\n",
      "1875/1875 [==============================] - ETA: 0s - loss: 0.1964 - accuracy: 0.93 - 2s 1ms/step - loss: 0.1962 - accuracy: 0.9386\n",
      "Epoch 8/30\n",
      "1875/1875 [==============================] - 2s 990us/step - loss: 0.1908 - accuracy: 0.9397\n",
      "Epoch 9/30\n",
      "1875/1875 [==============================] - 2s 1ms/step - loss: 0.1806 - accuracy: 0.9425\n",
      "Epoch 10/30\n",
      "1875/1875 [==============================] - 2s 1ms/step - loss: 0.1718 - accuracy: 0.9447\n",
      "Epoch 11/30\n",
      "1875/1875 [==============================] - 2s 1ms/step - loss: 0.1684 - accuracy: 0.9466\n",
      "Epoch 12/30\n",
      "1875/1875 [==============================] - 2s 1000us/step - loss: 0.1657 - accuracy: 0.9475\n",
      "Epoch 13/30\n",
      "1875/1875 [==============================] - 2s 967us/step - loss: 0.1637 - accuracy: 0.9479\n",
      "Epoch 14/30\n",
      "1875/1875 [==============================] - 2s 971us/step - loss: 0.1570 - accuracy: 0.9501\n",
      "Epoch 15/30\n",
      "1875/1875 [==============================] - 2s 969us/step - loss: 0.1542 - accuracy: 0.9519\n",
      "Epoch 16/30\n",
      "1875/1875 [==============================] - 2s 968us/step - loss: 0.1526 - accuracy: 0.9517\n",
      "Epoch 17/30\n",
      "1875/1875 [==============================] - 2s 968us/step - loss: 0.1411 - accuracy: 0.9554\n",
      "Epoch 18/30\n",
      "1875/1875 [==============================] - 2s 990us/step - loss: 0.1314 - accuracy: 0.9582\n",
      "Epoch 19/30\n",
      "1875/1875 [==============================] - 2s 1000us/step - loss: 0.1333 - accuracy: 0.9571\n",
      "Epoch 20/30\n",
      "1875/1875 [==============================] - 2s 1ms/step - loss: 0.1311 - accuracy: 0.9587\n",
      "Epoch 21/30\n",
      "1875/1875 [==============================] - 2s 1ms/step - loss: 0.1285 - accuracy: 0.9588\n",
      "Epoch 22/30\n",
      "1875/1875 [==============================] - ETA: 0s - loss: 0.1297 - accuracy: 0.95 - 2s 1ms/step - loss: 0.1301 - accuracy: 0.9583\n",
      "Epoch 23/30\n",
      "1875/1875 [==============================] - 2s 1ms/step - loss: 0.1255 - accuracy: 0.9602\n",
      "Epoch 24/30\n",
      "1875/1875 [==============================] - 2s 1ms/step - loss: 0.1254 - accuracy: 0.9600\n",
      "Epoch 25/30\n",
      "1875/1875 [==============================] - 2s 982us/step - loss: 0.1239 - accuracy: 0.9603\n",
      "Epoch 26/30\n",
      "1875/1875 [==============================] - 2s 974us/step - loss: 0.1214 - accuracy: 0.9600\n",
      "Epoch 27/30\n",
      "1875/1875 [==============================] - 2s 992us/step - loss: 0.1173 - accuracy: 0.9621\n",
      "Epoch 28/30\n",
      "1875/1875 [==============================] - 2s 994us/step - loss: 0.1096 - accuracy: 0.9656\n",
      "Epoch 29/30\n",
      "1875/1875 [==============================] - 2s 1ms/step - loss: 0.1082 - accuracy: 0.9661\n",
      "Epoch 30/30\n",
      "1875/1875 [==============================] - 2s 994us/step - loss: 0.1076 - accuracy: 0.9658\n"
     ]
    }
   ],
   "source": [
    "hist = model.fit(train_X, train_y, epochs=30)"
   ]
  },
  {
   "cell_type": "code",
   "execution_count": 29,
   "id": "58c94e96",
   "metadata": {},
   "outputs": [
    {
     "data": {
      "image/png": "[encoded data removed]",
      "text/plain": [
       "<Figure size 576x216 with 1 Axes>"
      ]
     },
     "metadata": {
      "needs_background": "light"
     },
     "output_type": "display_data"
    }
   ],
   "source": [
    "pd.DataFrame(hist.history).plot(figsize=(8, 3))\n",
    "plt.grid(True)\n",
    "plt.gca().set_ylim(0, 1)\n",
    "plt.show()"
   ]
  },
  {
   "cell_type": "code",
   "execution_count": 30,
   "id": "ffa1e920",
   "metadata": {},
   "outputs": [
    {
     "name": "stdout",
     "output_type": "stream",
     "text": [
      "313/313 [==============================] - 0s 574us/step - loss: 0.1247 - accuracy: 0.9627\n"
     ]
    },
    {
     "data": {
      "text/plain": [
       "[0.12471336871385574, 0.9627000093460083]"
      ]
     },
     "execution_count": 30,
     "metadata": {},
     "output_type": "execute_result"
    }
   ],
   "source": [
    "model.evaluate(test_X, test_y)"
   ]
  },
  {
   "cell_type": "code",
   "execution_count": 31,
   "id": "56ab0d02",
   "metadata": {},
   "outputs": [
    {
     "name": "stdout",
     "output_type": "stream",
     "text": [
      "WARNING:tensorflow:From E:\\Anaconda\\envs\\PSI\\lib\\site-packages\\tensorflow\\python\\training\\tracking\\tracking.py:111: Model.state_updates (from tensorflow.python.keras.engine.training) is deprecated and will be removed in a future version.\n",
      "Instructions for updating:\n",
      "This property should not be used in TensorFlow 2.0, as updates are applied automatically.\n",
      "WARNING:tensorflow:From E:\\Anaconda\\envs\\PSI\\lib\\site-packages\\tensorflow\\python\\training\\tracking\\tracking.py:111: Layer.updates (from tensorflow.python.keras.engine.base_layer) is deprecated and will be removed in a future version.\n",
      "Instructions for updating:\n",
      "This property should not be used in TensorFlow 2.0, as updates are applied automatically.\n",
      "INFO:tensorflow:Assets written to: model\\assets\n"
     ]
    }
   ],
   "source": [
    "model.save('model')"
   ]
  },
  {
   "cell_type": "code",
   "execution_count": 35,
   "id": "a4984054",
   "metadata": {},
   "outputs": [
    {
     "data": {
      "text/plain": [
       "array([5, 0, 4, 1, 9, 2, 1, 3, 1, 4, 3, 5, 3, 6, 1, 7], dtype=uint8)"
      ]
     },
     "execution_count": 35,
     "metadata": {},
     "output_type": "execute_result"
    }
   ],
   "source": [
    "test = model.predict(train_X[:16])\n",
    "train_y[:16]"
   ]
  },
  {
   "cell_type": "code",
   "execution_count": 36,
   "id": "d8266fb0",
   "metadata": {},
   "outputs": [
    {
     "data": {
      "text/plain": [
       "array([[0.  , 0.  , 0.  , 0.01, 0.  , 0.99, 0.  , 0.  , 0.  , 0.  ],\n",
       "       [1.  , 0.  , 0.  , 0.  , 0.  , 0.  , 0.  , 0.  , 0.  , 0.  ],\n",
       "       [0.  , 0.  , 0.  , 0.  , 1.  , 0.  , 0.  , 0.  , 0.  , 0.  ],\n",
       "       [0.  , 1.  , 0.  , 0.  , 0.  , 0.  , 0.  , 0.  , 0.  , 0.  ],\n",
       "       [0.  , 0.  , 0.  , 0.  , 0.  , 0.  , 0.  , 0.  , 0.  , 1.  ],\n",
       "       [0.01, 0.  , 0.96, 0.01, 0.  , 0.  , 0.  , 0.  , 0.  , 0.  ],\n",
       "       [0.  , 1.  , 0.  , 0.  , 0.  , 0.  , 0.  , 0.  , 0.  , 0.  ],\n",
       "       [0.  , 0.  , 0.  , 0.98, 0.  , 0.  , 0.  , 0.  , 0.01, 0.  ],\n",
       "       [0.  , 1.  , 0.  , 0.  , 0.  , 0.  , 0.  , 0.  , 0.  , 0.  ],\n",
       "       [0.  , 0.  , 0.  , 0.  , 1.  , 0.  , 0.  , 0.  , 0.  , 0.  ],\n",
       "       [0.  , 0.  , 0.  , 1.  , 0.  , 0.  , 0.  , 0.  , 0.  , 0.  ],\n",
       "       [0.  , 0.  , 0.  , 0.  , 0.  , 1.  , 0.  , 0.  , 0.  , 0.  ],\n",
       "       [0.  , 0.  , 0.  , 1.  , 0.  , 0.  , 0.  , 0.  , 0.  , 0.  ],\n",
       "       [0.  , 0.  , 0.  , 0.  , 0.  , 0.  , 1.  , 0.  , 0.  , 0.  ],\n",
       "       [0.  , 1.  , 0.  , 0.  , 0.  , 0.  , 0.  , 0.  , 0.  , 0.  ],\n",
       "       [0.  , 0.  , 0.  , 0.  , 0.  , 0.  , 0.  , 0.99, 0.  , 0.01]],\n",
       "      dtype=float32)"
      ]
     },
     "execution_count": 36,
     "metadata": {},
     "output_type": "execute_result"
    }
   ],
   "source": [
    "test.round(2)"
   ]
  },
  {
   "cell_type": "code",
   "execution_count": 37,
   "id": "ab4f9e74",
   "metadata": {},
   "outputs": [],
   "source": [
    "test = np.argmax(test, axis=1)"
   ]
  },
  {
   "cell_type": "code",
   "execution_count": 38,
   "id": "14d84bfe",
   "metadata": {},
   "outputs": [
    {
     "data": {
      "text/plain": [
       "array([5, 0, 4, 1, 9, 2, 1, 3, 1, 4, 3, 5, 3, 6, 1, 7], dtype=int64)"
      ]
     },
     "execution_count": 38,
     "metadata": {},
     "output_type": "execute_result"
    }
   ],
   "source": [
    "test"
   ]
  },
  {
   "cell_type": "code",
   "execution_count": 59,
   "id": "70253cca",
   "metadata": {},
   "outputs": [],
   "source": [
    "image = cv.imread('test.png', cv.IMREAD_GRAYSCALE)"
   ]
  },
  {
   "cell_type": "code",
   "execution_count": 61,
   "id": "a92e3ebc",
   "metadata": {},
   "outputs": [
    {
     "data": {
      "image/png": "[encoded data removed]",
      "text/plain": [
       "<Figure size 432x288 with 1 Axes>"
      ]
     },
     "metadata": {
      "needs_background": "light"
     },
     "output_type": "display_data"
    }
   ],
   "source": [
    "plt.imshow(image, cmap='binary')\n",
    "plt.show()"
   ]
  },
  {
   "cell_type": "code",
   "execution_count": 62,
   "id": "e81d1920",
   "metadata": {},
   "outputs": [],
   "source": [
    "image = cv.resize(image, (28, 28))"
   ]
  },
  {
   "cell_type": "code",
   "execution_count": 64,
   "id": "4ea8173e",
   "metadata": {},
   "outputs": [
    {
     "data": {
      "image/png": "[encoded data removed]",
      "text/plain": [
       "<Figure size 432x288 with 1 Axes>"
      ]
     },
     "metadata": {
      "needs_background": "light"
     },
     "output_type": "display_data"
    }
   ],
   "source": [
    "plt.imshow(image, cmap='binary')\n",
    "plt.show()"
   ]
  },
  {
   "cell_type": "code",
   "execution_count": 69,
   "id": "7cd915b8",
   "metadata": {},
   "outputs": [
    {
     "name": "stdout",
     "output_type": "stream",
     "text": [
      "WARNING:tensorflow:Model was constructed with shape (None, 28, 28) for input Tensor(\"flatten_4_input:0\", shape=(None, 28, 28), dtype=float32), but it was called on an input with incompatible shape (None, 1, 28, 28).\n"
     ]
    },
    {
     "data": {
      "text/plain": [
       "array([1], dtype=int64)"
      ]
     },
     "execution_count": 69,
     "metadata": {},
     "output_type": "execute_result"
    }
   ],
   "source": [
    "image = np.expand_dims(image, axis=0)\n",
    "ex = model.predict(image)\n",
    "ex = np.argmax(ex, axis=1)\n",
    "ex"
   ]
  },
  {
   "cell_type": "code",
   "execution_count": null,
   "id": "c2c5fed0",
   "metadata": {},
   "outputs": [],
   "source": []
  }
 ],
 "metadata": {
  "kernelspec": {
   "display_name": "Python 3 (ipykernel)",
   "language": "python",
   "name": "python3"
  },
  "language_info": {
   "codemirror_mode": {
    "name": "ipython",
    "version": 3
   },
   "file_extension": ".py",
   "mimetype": "text/x-python",
   "name": "python",
   "nbconvert_exporter": "python",
   "pygments_lexer": "ipython3",
   "version": "3.8.12"
  }
 },
 "nbformat": 4,
 "nbformat_minor": 5
}
